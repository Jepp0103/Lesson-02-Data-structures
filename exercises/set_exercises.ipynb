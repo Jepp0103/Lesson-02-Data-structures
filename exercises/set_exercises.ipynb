{
 "cells": [
  {
   "cell_type": "markdown",
   "metadata": {},
   "source": [
    "# Set exercises\n",
    "\n",
    "## Dice Rolls.\n",
    "\n",
    "![](img/craps.jpg)\n",
    "\n",
    "In Craps, each roll of the dice belongs to one of several sets of rolls that are used to resolve bets. There are only 36 possible dice rolls, but it's annoying to define the various sets manually. Here's a multi-step procedure that produces the various sets of dice rolls around which you can define the game of craps.\n",
    "\n",
    "First, create a sequence with 13 empty sets, call it dice. Something like ``` [ set() ]*13 ``` doesn't work because it makes 13 copies of a single set object. You'll need to use a for statement to evaluate the set function 13 different times. What is the first index of this sequence? What is the last entry in this sequence?\n",
    "\n",
    "Second, write two, nested, for-loops to iterate through all 36 combinations of dice, creating 2-tuples. The 36 2-tuples will begin with (1,1) and end with (6,6). The sum of the two elements is an index into dice. We want to add each 2-tuple to the appropriate set in the dice sequence.\n",
    "\n",
    "When you're done, you should see results like the following:"
   ]
  },
  {
   "cell_type": "raw",
   "metadata": {},
   "source": [
    "> dice[7]\n",
    "> set([(5, 2), (6, 1), (1, 6), (4, 3), (2, 5), (3, 4)])"
   ]
  },
  {
   "cell_type": "markdown",
   "metadata": {},
   "source": [
    "Now you can define the various rules as sets built from other sets.\n",
    "\n",
    "* lose\n",
    "  * On the first roll, you lose if you roll 2, 3 or 12. This is the set dice[2] | dice[3] | dice[12]. The game is over.\n",
    "\n",
    "* win\n",
    "  * On the first roll, you win if you roll 7 or 11. The game is over.\n",
    "\n",
    "* point\n",
    "  * On the first roll, any other result (4, 5, 6, 8, 9, or 10) establishes a point. The game runs until you roll the point or a seven.\n",
    "\n",
    "* craps\n",
    "  * Once a point is established, you win if you roll the point's number. You lose if you roll a 7."
   ]
  },
  {
   "cell_type": "markdown",
   "metadata": {},
   "source": [
    "Once you have these three sets defined, you can simulate the first roll of a craps game with a relatively elegant-looking program. You can generate two random numbers to create a 2-tuple. You can then check to see if the 2-tuple is in the lose or win sets.\n",
    "\n",
    "If the come-out roll is in the point set, then the sum will let you pick a set from the dice sequence. For example, if the come-out roll is (2,2), the sum is 4, and you'd assign dice[4] to the variable point; this is the set of winners for the rest of the game. The set of losers for the rest of the game is always the craps set.\n",
    "\n",
    "The rest of the game is a simple loop, like the come-out roll loop, which uses two random numbers to create a 2-tuple. If the number is in the point set, the game is a winner. If the number is in the craps set, the game is a loser, otherwise it continues.\n"
   ]
  },
  {
   "cell_type": "code",
   "execution_count": 113,
   "metadata": {},
   "outputs": [],
   "source": [
    "# First, create a sequence with 13 empty sets\n",
    "dice = [set() for i in range(13)]"
   ]
  },
  {
   "cell_type": "code",
   "execution_count": 114,
   "metadata": {},
   "outputs": [],
   "source": [
    "# Second, write two, nested, for-loops to iterate through all 36 combinations of dice, creating 2-tuples. \n",
    "for i in range(1,7):\n",
    "    for j in range(1,7):\n",
    "        dice[i+j].add((i,j))"
   ]
  },
  {
   "cell_type": "code",
   "execution_count": 115,
   "metadata": {},
   "outputs": [
    {
     "name": "stdout",
     "output_type": "stream",
     "text": [
      "Hit enter to roll the dice\n",
      "{(1, 7)}\n",
      "Hit enter to roll the dice\n",
      "{(5, 6)}\n",
      "Hit enter to roll the dice\n",
      "{(2, 1)}\n",
      "Hit enter to roll the dice\n",
      "You hit the point 8 in your {(3, 5)}, you win!\n",
      "{(3, 5)}\n"
     ]
    }
   ],
   "source": [
    "import random \n",
    "import sys\n",
    "\n",
    "point = 0   # is the sum of the first roll if you did not win or loose on first roll\n",
    "roll = True # stops the loop when set to False\n",
    "\n",
    "while roll:\n",
    "    \n",
    "    input('Hit enter to roll the dice')\n",
    "    t = (random.randint(1, 7), random.randint(1, 7)) # create a tuple of 2 random ints\n",
    "    hit = set()  # create an empty set\n",
    "    hit.add(t)   # add t to set\n",
    "    \n",
    "    if not point:                                     # first roll point == 0 (False)\n",
    "        if hit < dice[2] | dice[3] | dice[12]:        # hit set is subset of the union of all sets from 2,3,7\n",
    "            print(f'You hit a {hit}, you loose!')\n",
    "            roll = False                              # roll == False stops the loop\n",
    "        elif hit < dice[7] | dice[11]:                # hit set is subset of the union of sets from 7,11\n",
    "            print(f'You hit a {hit}, you win!')\n",
    "            roll = False                              # stop loop\n",
    "        else:\n",
    "            point = sum(t)                            # \n",
    "    elif hit < dice[point]:                           # second or later roll, the hit is in dice[point] set\n",
    "        print(f'You hit the point {point} in your {hit}, you win!')\n",
    "        roll = False\n",
    "    elif hit < dice[7]:                                # second or later if yoy hit a 7 you are dead\n",
    "        print(f'You hit a {hit}, you loose!')\n",
    "        roll = False\n",
    "\n",
    "    print(hit)                                          # print hit set for debuging purpous."
   ]
  },
  {
   "cell_type": "code",
   "execution_count": null,
   "metadata": {},
   "outputs": [],
   "source": []
  },
  {
   "cell_type": "code",
   "execution_count": null,
   "metadata": {},
   "outputs": [],
   "source": []
  }
 ],
 "metadata": {
  "kernelspec": {
   "display_name": "Python 3",
   "language": "python",
   "name": "python3"
  },
  "language_info": {
   "codemirror_mode": {
    "name": "ipython",
    "version": 3
   },
   "file_extension": ".py",
   "mimetype": "text/x-python",
   "name": "python",
   "nbconvert_exporter": "python",
   "pygments_lexer": "ipython3",
   "version": "3.7.6"
  },
  "toc": {
   "base_numbering": 1,
   "nav_menu": {},
   "number_sections": true,
   "sideBar": true,
   "skip_h1_title": true,
   "title_cell": "Table of Contents",
   "title_sidebar": "Contents",
   "toc_cell": false,
   "toc_position": {},
   "toc_section_display": true,
   "toc_window_display": false
  }
 },
 "nbformat": 4,
 "nbformat_minor": 4
}
